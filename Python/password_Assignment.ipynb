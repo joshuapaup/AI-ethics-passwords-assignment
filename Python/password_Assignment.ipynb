{
 "cells": [
  {
   "cell_type": "code",
   "execution_count": null,
   "metadata": {},
   "outputs": [],
   "source": []
  },
  {
   "cell_type": "code",
   "execution_count": 32,
   "metadata": {},
   "outputs": [],
   "source": [
    "def passwordStrength(password):\n",
    "    SpecialSymbols =['$', '@', '#', '%','!','(',')','*','&','^']\n",
    "    val = True\n",
    "      \n",
    "    if len(password) < 6:\n",
    "        print('length should be at least 6')\n",
    "        val = False\n",
    "          \n",
    "    if not any(char.isdigit() for char in password):\n",
    "        print('Your password should have at least one number.')\n",
    "        val = False\n",
    "          \n",
    "    if not any(char.isupper() for char in password):\n",
    "        print('Your password should have at least one uppercase letter.')\n",
    "        val = False\n",
    "          \n",
    "    if not any(char.islower() for char in password):\n",
    "        print('Your password should have at least one lowercase letter.')\n",
    "        val = False\n",
    "          \n",
    "    if not any(char in SpecialSymbols for char in password):\n",
    "        print('Your Password should include more symbols.')\n",
    "        val = False\n",
    "    if val:\n",
    "        return val"
   ]
  },
  {
   "cell_type": "code",
   "execution_count": null,
   "metadata": {},
   "outputs": [],
   "source": [
    "def changePassword(current_password):\n",
    "    temp = current_password\n",
    "    print(\"Please input your new password:\")\n",
    "    new_password = input(\"> \")\n",
    "    while (new_password == current_password):\n",
    "        if new_password == current_password:\n",
    "            print(\"Your new password cannot match your previous password...\")\n",
    "            print(\"Please input your new password:\")\n",
    "            new_password = input(\"> \")\n",
    "    print(\"Your new password is:\", new_password)\n",
    "#     return new_password"
   ]
  },
  {
   "cell_type": "code",
   "execution_count": null,
   "metadata": {},
   "outputs": [],
   "source": [
    "def reviewOldPasswords(previous_passwords):\n",
    "    for i in (previous_passwords):\n",
    "        print(\"Former Password:\",i)"
   ]
  },
  {
   "cell_type": "code",
   "execution_count": null,
   "metadata": {},
   "outputs": [],
   "source": [
    "def updatePasswords(previous_passwords, current_password):\n",
    "    for i in range(len(previous_passwords)-1):\n",
    "        previous_passwords[i] = previous_passwords[i+1]\n",
    "    previous_passwords[len(previous_passwords)-1] = current_password\n",
    "    "
   ]
  },
  {
   "cell_type": "code",
   "execution_count": null,
   "metadata": {},
   "outputs": [],
   "source": [
    "def get_menu_choice():\n",
    "    print(\"Here are your options: \")\n",
    "    print(\"1. Change current password.\")\n",
    "    print(\"2. Review old passwords.\")\n",
    "    print(\"3. Review current password.\")\n",
    "    print(\"4. Test password Strength\")\n",
    "    print(\"5. To end your program.\") \n",
    "    option = input(\"> \")\n",
    "    return int(option)"
   ]
  },
  {
   "cell_type": "code",
   "execution_count": null,
   "metadata": {},
   "outputs": [],
   "source": [
    "# Main method\n",
    "def main():\n",
    "    previous_passwords = [\"filler1!\", \"filler2\", \"filler3\", \"filler4\", \"filler5\"]\n",
    "    current_password = \"Passw@rd\"\n",
    "    choice = get_menu_choice()\n",
    "    while choice != 5:\n",
    "        if choice == 1:\n",
    "            print(\"...\")\n",
    "            print(\"Are you sure you want to change your current password? Y/N:\")\n",
    "            option = input(\"> \")\n",
    "            while (option != \"Y\" or option != \"N\"):\n",
    "                if option == \"Y\":\n",
    "                    print(\"updating old passwords hehe\")\n",
    "                    updatePasswords(previous_passwords, current_password)\n",
    "                    reviewOldPasswords(previous_passwords)\n",
    "                    current_password = changePassword(current_password)\n",
    "                    print(\"Your new password is:\", current_password)\n",
    "                    break\n",
    "                elif option == \"N\":\n",
    "                    print(\"No worries. Returning you to main menu...\")\n",
    "                    break\n",
    "                else:\n",
    "                    print(\"I didn't quite catch that.\")\n",
    "                    print(\"Are you sure you want to change your current password? Y/N:\")\n",
    "                    option = input(\"> \")\n",
    "            choice = get_menu_choice()\n",
    "        elif choice == 2:\n",
    "            print(\"Your previous passwords are:\")\n",
    "            reviewOldPasswords(previous_passwords)\n",
    "            choice = get_menu_choice()\n",
    "        elif choice == 3:\n",
    "            print(\"...\")\n",
    "            print(\"Your current password is:\", current_password)\n",
    "            print(\"...\")\n",
    "            choice = get_menu_choice()\n",
    "        elif choice == 4:\n",
    "            print(\"4. Test password Strength\")\n",
    "            if (passwordStrength(previous_passwords[0])):\n",
    "                print(\"Password is valid\")\n",
    "            else:\n",
    "                print(\"Invalid Password !!\")\n",
    "            choice = get_menu_choice()\n",
    "        else:\n",
    "            print(\"...\")\n",
    "            print(\"Sorry, I didn't quite catch that.\")\n",
    "            print(\"...\")\n",
    "            choice = get_menu_choice()\n",
    "    print(\"...\")\n",
    "    print(\"Thank you for checking in. Goodbye!\")\n",
    "    print(\"...\")"
   ]
  },
  {
   "cell_type": "code",
   "execution_count": null,
   "metadata": {},
   "outputs": [
    {
     "name": "stdout",
     "output_type": "stream",
     "text": [
      "Here are your options: \n",
      "1. Change current password.\n",
      "2. Review old passwords.\n",
      "3. Review current password.\n",
      "4. Test password Strength\n",
      "5. To end your program.\n",
      "> 1\n",
      "...\n",
      "Are you sure you want to change your current password? Y/N:\n",
      "> Y\n",
      "updating old passwords hehe\n",
      "Former Password: filler2\n",
      "Former Password: filler3\n",
      "Former Password: filler4\n",
      "Former Password: filler5\n",
      "Former Password: Passw@rd\n",
      "Please input your new password:\n",
      "> password\n",
      "Here are your options: \n",
      "1. Change current password.\n",
      "2. Review old passwords.\n",
      "3. Review current password.\n",
      "4. Test password Strength\n",
      "5. To end your program.\n"
     ]
    }
   ],
   "source": [
    " #Driver Code        \n",
    "if __name__ == '__main__':\n",
    "    main()"
   ]
  },
  {
   "cell_type": "code",
   "execution_count": null,
   "metadata": {},
   "outputs": [],
   "source": []
  }
 ],
 "metadata": {
  "kernelspec": {
   "display_name": "Python 3",
   "language": "python",
   "name": "python3"
  },
  "language_info": {
   "codemirror_mode": {
    "name": "ipython",
    "version": 3
   },
   "file_extension": ".py",
   "mimetype": "text/x-python",
   "name": "python",
   "nbconvert_exporter": "python",
   "pygments_lexer": "ipython3",
   "version": "3.7.4"
  }
 },
 "nbformat": 4,
 "nbformat_minor": 4
}
