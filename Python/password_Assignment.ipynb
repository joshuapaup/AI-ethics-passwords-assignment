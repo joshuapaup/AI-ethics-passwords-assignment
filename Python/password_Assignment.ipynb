{
 "cells": [
  {
   "cell_type": "code",
   "execution_count": null,
   "metadata": {},
   "outputs": [],
   "source": []
  },
  {
   "cell_type": "code",
   "execution_count": 15,
   "metadata": {},
   "outputs": [],
   "source": [
    "def passwordStrength(password):\n",
    "    SpecialSym =['$', '@', '#', '%','!','(',')']\n",
    "    val = True\n",
    "      \n",
    "    if len(password) < 6:\n",
    "        print('length should be at least 6')\n",
    "        val = False\n",
    "          \n",
    "    if len(password) > 20:\n",
    "        print('length should be not be greater than 8')\n",
    "        val = False\n",
    "          \n",
    "    if not any(char.isdigit() for char in password):\n",
    "        print('Password should have at least one numeral')\n",
    "        val = False\n",
    "          \n",
    "    if not any(char.isupper() for char in password):\n",
    "        print('Password should have at least one uppercase letter')\n",
    "        val = False\n",
    "          \n",
    "    if not any(char.islower() for char in password):\n",
    "        print('Password should have at least one lowercase letter')\n",
    "        val = False\n",
    "          \n",
    "    if not any(char in SpecialSym for char in password):\n",
    "        print('Password should have at least one of the symbols $@#%!')\n",
    "        val = False\n",
    "    if val:\n",
    "        return val"
   ]
  },
  {
   "cell_type": "code",
   "execution_count": 12,
   "metadata": {},
   "outputs": [],
   "source": [
    "def changePassword(current_password,previous_passwords):\n",
    "    return 0"
   ]
  },
  {
   "cell_type": "code",
   "execution_count": 40,
   "metadata": {},
   "outputs": [],
   "source": [
    "def reviewOldPasswords(previous_passwords):\n",
    "    for i in (previous_passwords):\n",
    "        print(\"Former Password:\",i)"
   ]
  },
  {
   "cell_type": "code",
   "execution_count": null,
   "metadata": {},
   "outputs": [],
   "source": []
  },
  {
   "cell_type": "code",
   "execution_count": 7,
   "metadata": {},
   "outputs": [],
   "source": [
    "def get_menu_choice():\n",
    "    print(\"Here are your options: \")\n",
    "    print(\"1. Change current password.\")\n",
    "    print(\"2. Review old passwords.\")\n",
    "    print(\"3. Review current password.\")\n",
    "    print(\"4. Test password Strength\")\n",
    "    print(\"5. To end your program.\") \n",
    "    option = input(\"> \")\n",
    "    return int(option)"
   ]
  },
  {
   "cell_type": "code",
   "execution_count": 11,
   "metadata": {},
   "outputs": [],
   "source": [
    "# get_menu_choice()"
   ]
  },
  {
   "cell_type": "code",
   "execution_count": 43,
   "metadata": {},
   "outputs": [],
   "source": [
    "# Main method\n",
    "def main():\n",
    "    previous_passwords = [\"Filler1!\", \"filler2\", \"filler3\", \"filler4\", \"filler5\"]\n",
    "    current_password = \"Passw@rd\"\n",
    "    choice = get_menu_choice()\n",
    "    if choice == 1:\n",
    "        print(\"1. Change current password.\")\n",
    "    elif choice == 2:\n",
    "        print(\"2. Review old passwords.\")\n",
    "        reviewOldPasswords(previous_passwords)\n",
    "\n",
    "    elif choice == 3:\n",
    "        print(\"3. Review current password.\")\n",
    "    elif choice == 4:\n",
    "        print(\"4. Test password Strength\")\n",
    "        if (passwordStrength(previous_passwords[0])):\n",
    "            print(\"Password is valid\")\n",
    "        else:\n",
    "            print(\"Invalid Password !!\")\n",
    "            \n",
    "    else:\n",
    "        print(\"5. To end your program.\") \n",
    "\n",
    "\n",
    "\n",
    "\n",
    "        \n",
    "    \n",
    "        \n",
    "\n",
    "        \n",
    "\n",
    "    \n",
    "    \n",
    "    \n",
    "          \n",
    " "
   ]
  },
  {
   "cell_type": "code",
   "execution_count": 44,
   "metadata": {},
   "outputs": [
    {
     "name": "stdout",
     "output_type": "stream",
     "text": [
      "Here are your options: \n",
      "1. Change current password.\n",
      "2. Review old passwords.\n",
      "3. Review current password.\n",
      "4. Test password Strength\n",
      "5. To end your program.\n",
      "> 2\n",
      "2. Review old passwords.\n",
      "Former Password: Filler1!\n",
      "Former Password: filler2\n",
      "Former Password: filler3\n",
      "Former Password: filler4\n",
      "Former Password: filler5\n"
     ]
    }
   ],
   "source": [
    " #Driver Code        \n",
    "    if __name__ == '__main__':\n",
    "        main()"
   ]
  },
  {
   "cell_type": "code",
   "execution_count": null,
   "metadata": {},
   "outputs": [],
   "source": []
  }
 ],
 "metadata": {
  "kernelspec": {
   "display_name": "Python 3",
   "language": "python",
   "name": "python3"
  },
  "language_info": {
   "codemirror_mode": {
    "name": "ipython",
    "version": 3
   },
   "file_extension": ".py",
   "mimetype": "text/x-python",
   "name": "python",
   "nbconvert_exporter": "python",
   "pygments_lexer": "ipython3",
   "version": "3.6.10"
  }
 },
 "nbformat": 4,
 "nbformat_minor": 4
}
